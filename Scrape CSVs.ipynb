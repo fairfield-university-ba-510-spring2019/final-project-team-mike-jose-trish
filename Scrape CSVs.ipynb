{
 "cells": [
  {
   "cell_type": "code",
   "execution_count": 17,
   "metadata": {},
   "outputs": [],
   "source": [
    "import os\n",
    "import pandas as pd"
   ]
  },
  {
   "cell_type": "code",
   "execution_count": 27,
   "metadata": {},
   "outputs": [
    {
     "name": "stdout",
     "output_type": "stream",
     "text": [
      "Catalogs_CourseCatalog2017_2018.csv\n",
      "Catalogs_CourseCatalog2018_2019.csv\n",
      "CSV_files_Catalogs_CourseCatalog2017_2018.csv.csv\n",
      "CSV_files_Catalogs_CourseCatalog2018_2019.csv.csv\n",
      "Fall2014_courses.csv\n",
      "Fall2014_course_meetings.csv\n",
      "Fall2015_courses.csv\n",
      "Fall2015_course_meetings.csv\n",
      "Fall2016_courses.csv\n",
      "Fall2016_course_meetings.csv\n",
      "Fall2017_courses.csv\n",
      "Fall2017_course_meetings.csv\n",
      "Fall2018_courses.csv\n",
      "Fall2018_course_meetings.csv\n",
      "pring2015_courses.csv\n",
      "pring2015_course_meetings.csv\n",
      "pring2016_courses.csv\n",
      "pring2016_course_meetings.csv\n",
      "pring2017_courses.csv\n",
      "pring2017_course_meetings.csv\n",
      "pring2018_courses.csv\n",
      "pring2018_course_meetings.csv\n",
      "pring2019_courses.csv\n",
      "pring2019_course_meetings.csv\n",
      "pringBreak2017_courses.csv\n",
      "pringBreak2017_course_meetings.csv\n",
      "mmer2015_courses.csv\n",
      "mmer2015_course_meetings.csv\n",
      "mmer2016_courses.csv\n",
      "mmer2016_course_meetings.csv\n",
      "mmer2017_courses.csv\n",
      "mmer2017_course_meetings.csv\n",
      "mmer2018_courses.csv\n",
      "mmer2018_course_meetings.csv\n",
      "Winter2015_courses.csv\n",
      "Winter2015_course_meetings.csv\n",
      "Winter2016_courses.csv\n",
      "Winter2016_course_meetings.csv\n",
      "Winter2017_courses.csv\n",
      "Winter2017_course_meetings.csv\n",
      "Winter2018_courses.csv\n",
      "Winter2018_course_meetings.csv\n"
     ]
    }
   ],
   "source": [
    "import os\n",
    "\n",
    "empty_dict = {}\n",
    "\n",
    "for dirname, dirnames, filenames in os.walk('.\\SourceData'):\n",
    "    # print path to all subdirectories first.\n",
    "    for filename in filenames:\n",
    "        if 'csv' in filename:\n",
    "            real_path = os.path.join(dirname, filename)\n",
    "            fake_path = os.path.join(dirname,filename).replace(\"\\\\\",\"_\").strip(\"._SourceData_\")\n",
    "            #print(real_path)\n",
    "            print(fake_path)\n",
    "            dataframe = pd.read_csv(real_path)\n",
    "            dataframe.to_csv('SourceData\\CSV_files\\{}.csv'.format(fake_path))\n",
    "        else:\n",
    "            pass\n",
    "\n",
    "    # Advanced usage:\n",
    "    # editing the 'dirnames' list will stop os.walk() from recursing into there.\n",
    "    #if '.git' in dirnames:\n",
    "        # don't go into any .git directories.\n",
    "    #    dirnames.remove('.git')"
   ]
  },
  {
   "cell_type": "code",
   "execution_count": null,
   "metadata": {},
   "outputs": [],
   "source": []
  }
 ],
 "metadata": {
  "kernelspec": {
   "display_name": "Python 3",
   "language": "python",
   "name": "python3"
  },
  "language_info": {
   "codemirror_mode": {
    "name": "ipython",
    "version": 3
   },
   "file_extension": ".py",
   "mimetype": "text/x-python",
   "name": "python",
   "nbconvert_exporter": "python",
   "pygments_lexer": "ipython3",
   "version": "3.6.4"
  }
 },
 "nbformat": 4,
 "nbformat_minor": 2
}
