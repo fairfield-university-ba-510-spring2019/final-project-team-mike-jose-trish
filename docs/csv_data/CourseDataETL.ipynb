{
 "cells": [
  {
   "cell_type": "code",
   "execution_count": 2,
   "metadata": {},
   "outputs": [],
   "source": [
    "#https://docs.sqlalchemy.org/en/latest/core/engines.html\n",
    "#SET UP LOCAL CONNECTION TO DATABASE FILE\n",
    "from sqlalchemy import create_engine\n",
    "engine = create_engine('sqlite:///C:\\\\Users\\\\e333775\\\\Documents\\\\BA510\\\\final-project-team-mike-jose-trish\\\\docs\\\\csv_data\\\\CoursesDB.db')\n",
    "import pandas as pd\n"
   ]
  },
  {
   "cell_type": "code",
   "execution_count": 5,
   "metadata": {},
   "outputs": [
    {
     "data": {
      "text/html": [
       "<div>\n",
       "<style scoped>\n",
       "    .dataframe tbody tr th:only-of-type {\n",
       "        vertical-align: middle;\n",
       "    }\n",
       "\n",
       "    .dataframe tbody tr th {\n",
       "        vertical-align: top;\n",
       "    }\n",
       "\n",
       "    .dataframe thead th {\n",
       "        text-align: right;\n",
       "    }\n",
       "</style>\n",
       "<table border=\"1\" class=\"dataframe\">\n",
       "  <thead>\n",
       "    <tr style=\"text-align: right;\">\n",
       "      <th></th>\n",
       "      <th>term</th>\n",
       "      <th>crn</th>\n",
       "      <th>location</th>\n",
       "      <th>day</th>\n",
       "      <th>start</th>\n",
       "      <th>end</th>\n",
       "    </tr>\n",
       "  </thead>\n",
       "  <tbody>\n",
       "    <tr>\n",
       "      <th>0</th>\n",
       "      <td>Fall2014</td>\n",
       "      <td>70384</td>\n",
       "      <td>DSB 105</td>\n",
       "      <td>T</td>\n",
       "      <td>2014-09-02 08:00:00</td>\n",
       "      <td>2014-09-02 09:15:00</td>\n",
       "    </tr>\n",
       "  </tbody>\n",
       "</table>\n",
       "</div>"
      ],
      "text/plain": [
       "       term    crn location day                start                  end\n",
       "0  Fall2014  70384  DSB 105   T  2014-09-02 08:00:00  2014-09-02 09:15:00"
      ]
     },
     "execution_count": 5,
     "metadata": {},
     "output_type": "execute_result"
    }
   ],
   "source": [
    "#list of tables in OPERATIONAL_DB\n",
    "pd.read_sql('select * from instructors',engine).head(1)\n",
    "pd.read_sql('select * from locations',engine).head(1) \n",
    "pd.read_sql('select * from course_titles',engine).head(1)\n",
    "pd.read_sql('select * from courses',engine).head(1)\n",
    "pd.read_sql('select * from catalog',engine).head(1)\n",
    "pd.read_sql(\"\"\"select * from meetings\"\"\",engine).head(1)"
   ]
  },
  {
   "cell_type": "code",
   "execution_count": 9,
   "metadata": {
    "scrolled": true
   },
   "outputs": [],
   "source": [
    "#READ IN INSTRUCTOR DATA FROM EXCEL\n",
    "instructors = pd.read_excel('courses_combined.xlsx',sheet_name = 'instructors')\n",
    "\n",
    "#CREATE TABLE INSTRUCTORS\n",
    "pd.io.sql.execute(\"\"\"CREATE TABLE instructors (instructor_id INTEGER, primary_instructor varchar(20))\"\"\",engine)\n",
    "\n",
    "#FOR EACH ROW IN CSV, INSERT INTO INSTRUCTORS TABLE\n",
    "for row in instructors.itertuples():\n",
    "    pd.io.sql.execute(\"\"\"INSERT INTO instructors (instructor_id, primary_instructor) VALUES ({},'{}')\"\"\".format(row[1],row[2]),engine)\n"
   ]
  },
  {
   "cell_type": "code",
   "execution_count": 13,
   "metadata": {},
   "outputs": [],
   "source": [
    "#READ IN THE LOCATIONS\n",
    "locations = pd.read_excel('course_meetings_combined.xlsx',sheetname='locations_table')\n",
    "\n",
    "#CREATE LOCATIONS TABLE\n",
    "pd.io.sql.execute(\"\"\"CREATE TABLE IF NOT EXISTS locations (NAME TEXT, BUILDING TEXT, ROOM TEXT)\"\"\",engine)\n",
    "\n",
    "#FOR EACH ROW IN EXCEL, INSERT INTO LOCATIONS TABLES\n",
    "for row in locations.itertuples():\n",
    "    pd.io.sql.execute(\"\"\"INSERT INTO locations (NAME,BUILDING,ROOM) VALUES ('{}','{}','{}')\"\"\".format(row[1],row[2],row[3]),engine)"
   ]
  },
  {
   "cell_type": "code",
   "execution_count": 10,
   "metadata": {},
   "outputs": [],
   "source": [
    "#READ IN COURSE_TITLE DATA FROM EXCEL\n",
    "course_titles = pd.read_excel('courses_combined.xlsx',sheet_name = 'course_titles')\n",
    "\n",
    "#CREATE TABLE COURSE_TITLES\n",
    "pd.io.sql.execute(\"\"\"CREATE TABLE course_titles (course_id INTEGER, course_title varchar(100))\"\"\",engine)\n",
    "\n",
    "#FOR EACH ROW IN EXCEL FILE, INSERT INTO COURSE_TITLES TABLE\n",
    "for row in course_titles.itertuples():\n",
    "    pd.io.sql.execute(\"\"\"INSERT INTO course_titles (course_id, course_title) VALUES ({},'{}')\"\"\".format(row[1],row[2]),engine)\n"
   ]
  },
  {
   "cell_type": "code",
   "execution_count": 11,
   "metadata": {},
   "outputs": [],
   "source": [
    "#READ IN COURSES DATA FROM EXCEL\n",
    "courses_combined = pd.read_excel('courses_combined.xlsx',sheet_name='courses_combined').drop(['meetings','timecodes'],1)\n",
    "\n",
    "#CREATE COURSES TABLE\n",
    "pd.io.sql.execute(\"\"\"CREATE TABLE  courses (term TEXT, crn INTEGER, catalog_id TEXT, section TEXT, credits Integer, title_id Integer,instructor_id Integer, cap Integer, act Integer, rem Integer)\"\"\",engine)\n",
    "\n",
    "#FOR EACH ROW IN EXCEL FILE, INSERT INTO COURSES TABLE\n",
    "for row in courses_combined.itertuples():\n",
    "    pd.io.sql.execute(\"\"\"INSERT INTO courses (term,crn,catalog_id,section,credits,title_id,instructor_id,cap,act,rem) VALUES('{}',{},'{}','{}',{},{},{},{},{},{})\"\"\".format(row[1],row[2],row[3],row[4],row[5],row[6],row[7],row[8],row[9],row[10]),engine)\n"
   ]
  },
  {
   "cell_type": "code",
   "execution_count": 12,
   "metadata": {},
   "outputs": [],
   "source": [
    "#READ IN THE CATALOG FILES\n",
    "catalog_df = pd.read_csv('catalog_files_combined.csv').drop('Unnamed: 0',1)\n",
    "\n",
    "#CREATE CATALOG TABLE\n",
    "pd.io.sql.execute(\"\"\"CREATE TABLE catalog (program_code TEXT, program_name TEXT, catalog_id TEXT, course_title TEXT, credits TEXT, prereqs TEXT, coreqs TEXT, fees TEXT, attributes TEXT, description TEXT)\"\"\",engine)\n",
    "\n",
    "#FOR EACH ROW IN CSV FILE, INSERT INTO CATALOG TABLE\n",
    "for row in catalog_df.itertuples():\n",
    "    pd.io.sql.execute(\"\"\"INSERT INTO catalog (program_code,program_name,catalog_id,course_title,credits,prereqs,coreqs,fees,attributes,description) VALUES ('{}','{}','{}','{}','{}','{}','{}','{}','{}','{}')\"\"\".format(row[1],row[2],row[3],row[4],row[5],row[6],row[7],row[8],row[9],row[10]),engine)\n",
    "#catalog_df    "
   ]
  },
  {
   "cell_type": "code",
   "execution_count": 9,
   "metadata": {},
   "outputs": [
    {
     "name": "stdout",
     "output_type": "stream",
     "text": [
      "0\n",
      "50000\n",
      "100000\n",
      "150000\n",
      "200000\n",
      "250000\n",
      "300000\n"
     ]
    }
   ],
   "source": [
    "#CREATE THE MEETINGS TABLE \n",
    "pd.io.sql.execute(\"\"\"CREATE TABLE IF NOT EXISTS meetings (\n",
    " term TEXT,\n",
    " crn INTEGER,\n",
    " location TEXT,\n",
    " day TEXT,\n",
    " start TEXT,\n",
    " end TEXT\n",
    ")\"\"\",engine)\n",
    "\n",
    "#READ DATA IN FROM CSV THAT WE WILL INSERT\n",
    "df = pd.read_csv('course_meetings_combined.csv').drop('Unnamed: 0',1)\n",
    "\n",
    "#USE PYTHON TO MODIFY THE FORMAT OF THE START AND END COLUMNS\n",
    "df['start'] = pd.to_datetime(df['start'])\n",
    "df['end'] = pd.to_datetime(df['end'])\n",
    "\n",
    "#FOR EACH ROW IN THE CSV FILE, INSERT THE VALUES INTO THE MEETINGS TABLE\n",
    "import time \n",
    "start = time.time()\n",
    "count = 0\n",
    "for row in df.itertuples():\n",
    "    if count % 50000 == 0:\n",
    "        print(count)\n",
    "    pd.io.sql.execute(\"\"\"INSERT INTO meetings (term,crn,location,day,start,end) VALUES ('{}',{},'{}','{}','{}','{}')\"\"\".format(row[1],row[2],row[3],row[4],row[5],row[6]),engine)\n",
    "    count = count+1\n",
    "end = time.time()"
   ]
  },
  {
   "cell_type": "code",
   "execution_count": 12,
   "metadata": {},
   "outputs": [
    {
     "name": "stdout",
     "output_type": "stream",
     "text": [
      "50.050183312098184\n"
     ]
    }
   ],
   "source": [
    "##IT TOOK 50 MINUTES TO INSERT ~315K ROWS\n",
    "print((end-start)/60)"
   ]
  },
  {
   "cell_type": "code",
   "execution_count": 14,
   "metadata": {
    "scrolled": true
   },
   "outputs": [
    {
     "data": {
      "text/html": [
       "<div>\n",
       "<style scoped>\n",
       "    .dataframe tbody tr th:only-of-type {\n",
       "        vertical-align: middle;\n",
       "    }\n",
       "\n",
       "    .dataframe tbody tr th {\n",
       "        vertical-align: top;\n",
       "    }\n",
       "\n",
       "    .dataframe thead th {\n",
       "        text-align: right;\n",
       "    }\n",
       "</style>\n",
       "<table border=\"1\" class=\"dataframe\">\n",
       "  <thead>\n",
       "    <tr style=\"text-align: right;\">\n",
       "      <th></th>\n",
       "      <th>primary_instructor</th>\n",
       "      <th>course_title</th>\n",
       "      <th>term</th>\n",
       "      <th>crn</th>\n",
       "      <th>catalog_id</th>\n",
       "      <th>section</th>\n",
       "      <th>credits</th>\n",
       "      <th>cap</th>\n",
       "      <th>act</th>\n",
       "      <th>rem</th>\n",
       "    </tr>\n",
       "  </thead>\n",
       "  <tbody>\n",
       "    <tr>\n",
       "      <th>0</th>\n",
       "      <td>Michael P.  Coyne</td>\n",
       "      <td>Introduction to Financial Accounting</td>\n",
       "      <td>Fall2014</td>\n",
       "      <td>70384</td>\n",
       "      <td>AC 0011</td>\n",
       "      <td>C01</td>\n",
       "      <td>3.0</td>\n",
       "      <td>0</td>\n",
       "      <td>31</td>\n",
       "      <td>-31</td>\n",
       "    </tr>\n",
       "  </tbody>\n",
       "</table>\n",
       "</div>"
      ],
      "text/plain": [
       "  primary_instructor                          course_title      term    crn  \\\n",
       "0  Michael P.  Coyne  Introduction to Financial Accounting  Fall2014  70384   \n",
       "\n",
       "  catalog_id section  credits  cap  act  rem  \n",
       "0    AC 0011     C01      3.0    0   31  -31  "
      ]
     },
     "execution_count": 14,
     "metadata": {},
     "output_type": "execute_result"
    }
   ],
   "source": [
    "pd.read_sql(\"\"\"SELECT\n",
    "                b.primary_instructor,\n",
    "                c.course_title, \n",
    "                a.term,a.crn,\n",
    "                a.catalog_id,\n",
    "                a.section,\n",
    "                a.credits,\n",
    "                a.cap,\n",
    "                a.act,\n",
    "                a.rem \n",
    "                FROM courses a, instructors b, course_titles c \n",
    "                WHERE a.instructor_id = b.instructor_id \n",
    "                AND a.title_id = c.course_id\"\"\",engine).head(1)"
   ]
  },
  {
   "cell_type": "code",
   "execution_count": 16,
   "metadata": {},
   "outputs": [
    {
     "data": {
      "text/html": [
       "<div>\n",
       "<style scoped>\n",
       "    .dataframe tbody tr th:only-of-type {\n",
       "        vertical-align: middle;\n",
       "    }\n",
       "\n",
       "    .dataframe tbody tr th {\n",
       "        vertical-align: top;\n",
       "    }\n",
       "\n",
       "    .dataframe thead th {\n",
       "        text-align: right;\n",
       "    }\n",
       "</style>\n",
       "<table border=\"1\" class=\"dataframe\">\n",
       "  <thead>\n",
       "    <tr style=\"text-align: right;\">\n",
       "      <th></th>\n",
       "      <th>term</th>\n",
       "      <th>crn</th>\n",
       "      <th>catalog_id</th>\n",
       "      <th>section</th>\n",
       "      <th>credits</th>\n",
       "      <th>title_id</th>\n",
       "      <th>instructor_id</th>\n",
       "      <th>cap</th>\n",
       "      <th>act</th>\n",
       "      <th>rem</th>\n",
       "    </tr>\n",
       "  </thead>\n",
       "  <tbody>\n",
       "    <tr>\n",
       "      <th>0</th>\n",
       "      <td>Fall2014</td>\n",
       "      <td>72962</td>\n",
       "      <td>PS 0399</td>\n",
       "      <td>A</td>\n",
       "      <td>0.500000</td>\n",
       "      <td>19</td>\n",
       "      <td>454</td>\n",
       "      <td>0</td>\n",
       "      <td>1</td>\n",
       "      <td>-1</td>\n",
       "    </tr>\n",
       "    <tr>\n",
       "      <th>1</th>\n",
       "      <td>Fall2015</td>\n",
       "      <td>77120</td>\n",
       "      <td>PS 0399</td>\n",
       "      <td>AB</td>\n",
       "      <td>0.500000</td>\n",
       "      <td>19</td>\n",
       "      <td>454</td>\n",
       "      <td>0</td>\n",
       "      <td>1</td>\n",
       "      <td>-1</td>\n",
       "    </tr>\n",
       "    <tr>\n",
       "      <th>2</th>\n",
       "      <td>Fall2018</td>\n",
       "      <td>74684</td>\n",
       "      <td>CN 0590S</td>\n",
       "      <td>1</td>\n",
       "      <td>0.500000</td>\n",
       "      <td>163</td>\n",
       "      <td>126</td>\n",
       "      <td>0</td>\n",
       "      <td>6</td>\n",
       "      <td>-6</td>\n",
       "    </tr>\n",
       "    <tr>\n",
       "      <th>3</th>\n",
       "      <td>Summer2016</td>\n",
       "      <td>56298</td>\n",
       "      <td>ENW 0346</td>\n",
       "      <td>1</td>\n",
       "      <td>0.333333</td>\n",
       "      <td>10</td>\n",
       "      <td>218</td>\n",
       "      <td>0</td>\n",
       "      <td>4</td>\n",
       "      <td>-4</td>\n",
       "    </tr>\n",
       "    <tr>\n",
       "      <th>4</th>\n",
       "      <td>Spring2016</td>\n",
       "      <td>39190</td>\n",
       "      <td>PO 0298</td>\n",
       "      <td>A</td>\n",
       "      <td>0.750000</td>\n",
       "      <td>10</td>\n",
       "      <td>467</td>\n",
       "      <td>0</td>\n",
       "      <td>4</td>\n",
       "      <td>-4</td>\n",
       "    </tr>\n",
       "  </tbody>\n",
       "</table>\n",
       "</div>"
      ],
      "text/plain": [
       "         term    crn catalog_id section   credits  title_id  instructor_id  \\\n",
       "0    Fall2014  72962    PS 0399       A  0.500000        19            454   \n",
       "1    Fall2015  77120    PS 0399      AB  0.500000        19            454   \n",
       "2    Fall2018  74684   CN 0590S       1  0.500000       163            126   \n",
       "3  Summer2016  56298   ENW 0346       1  0.333333        10            218   \n",
       "4  Spring2016  39190    PO 0298       A  0.750000        10            467   \n",
       "\n",
       "   cap  act  rem  \n",
       "0    0    1   -1  \n",
       "1    0    1   -1  \n",
       "2    0    6   -6  \n",
       "3    0    4   -4  \n",
       "4    0    4   -4  "
      ]
     },
     "execution_count": 16,
     "metadata": {},
     "output_type": "execute_result"
    }
   ],
   "source": [
    "###DOMAIN INTEGRITY TEST. ARE CREDITS COMING THROUGH CORRECTLY AS INTEGERS?\n",
    "###MOST ARE INTEGERS, BUT SOME RECORDS ARE FRACTIONAL (1/3 or 1/2 or 3/6) MEANT TO INDICATE 1 OR 3\n",
    "###THESE ARE COMING THROUGH AS FRACTIONS\n",
    "###THESE ARE BAD RECORDS THAT WILL BE IGNORED IN ANALYSIS\n",
    "\n",
    "pd.read_sql('select * from courses where typeof(credits) <> \"integer\"',engine).head()"
   ]
  },
  {
   "cell_type": "code",
   "execution_count": 21,
   "metadata": {},
   "outputs": [
    {
     "data": {
      "text/html": [
       "<div>\n",
       "<style scoped>\n",
       "    .dataframe tbody tr th:only-of-type {\n",
       "        vertical-align: middle;\n",
       "    }\n",
       "\n",
       "    .dataframe tbody tr th {\n",
       "        vertical-align: top;\n",
       "    }\n",
       "\n",
       "    .dataframe thead th {\n",
       "        text-align: right;\n",
       "    }\n",
       "</style>\n",
       "<table border=\"1\" class=\"dataframe\">\n",
       "  <thead>\n",
       "    <tr style=\"text-align: right;\">\n",
       "      <th></th>\n",
       "      <th>day</th>\n",
       "    </tr>\n",
       "  </thead>\n",
       "  <tbody>\n",
       "    <tr>\n",
       "      <th>0</th>\n",
       "      <td>F</td>\n",
       "    </tr>\n",
       "    <tr>\n",
       "      <th>1</th>\n",
       "      <td>M</td>\n",
       "    </tr>\n",
       "    <tr>\n",
       "      <th>2</th>\n",
       "      <td>R</td>\n",
       "    </tr>\n",
       "    <tr>\n",
       "      <th>3</th>\n",
       "      <td>S</td>\n",
       "    </tr>\n",
       "    <tr>\n",
       "      <th>4</th>\n",
       "      <td>T</td>\n",
       "    </tr>\n",
       "    <tr>\n",
       "      <th>5</th>\n",
       "      <td>U</td>\n",
       "    </tr>\n",
       "    <tr>\n",
       "      <th>6</th>\n",
       "      <td>W</td>\n",
       "    </tr>\n",
       "  </tbody>\n",
       "</table>\n",
       "</div>"
      ],
      "text/plain": [
       "  day\n",
       "0   F\n",
       "1   M\n",
       "2   R\n",
       "3   S\n",
       "4   T\n",
       "5   U\n",
       "6   W"
      ]
     },
     "execution_count": 21,
     "metadata": {},
     "output_type": "execute_result"
    }
   ],
   "source": [
    "###DOMAIN INTEGRITY. ARE THESE THE DAYS WE EXPECT MONDAY-SUNDAY?\n",
    "###SEEMS TO BE OKAY, SOME CLASSES ON SUNDAY (U)\n",
    "pd.read_sql(\"\"\"select distinct DAY from meetings group by day\"\"\",engine)"
   ]
  },
  {
   "cell_type": "code",
   "execution_count": 22,
   "metadata": {},
   "outputs": [
    {
     "data": {
      "text/html": [
       "<div>\n",
       "<style scoped>\n",
       "    .dataframe tbody tr th:only-of-type {\n",
       "        vertical-align: middle;\n",
       "    }\n",
       "\n",
       "    .dataframe tbody tr th {\n",
       "        vertical-align: top;\n",
       "    }\n",
       "\n",
       "    .dataframe thead th {\n",
       "        text-align: right;\n",
       "    }\n",
       "</style>\n",
       "<table border=\"1\" class=\"dataframe\">\n",
       "  <thead>\n",
       "    <tr style=\"text-align: right;\">\n",
       "      <th></th>\n",
       "      <th>max(count)</th>\n",
       "    </tr>\n",
       "  </thead>\n",
       "  <tbody>\n",
       "    <tr>\n",
       "      <th>0</th>\n",
       "      <td>1</td>\n",
       "    </tr>\n",
       "  </tbody>\n",
       "</table>\n",
       "</div>"
      ],
      "text/plain": [
       "   max(count)\n",
       "0           1"
      ]
     },
     "execution_count": 22,
     "metadata": {},
     "output_type": "execute_result"
    }
   ],
   "source": [
    "###DOMAIN INTEGRITY IS THIS PROVES THERE IS ONLY 1 INSTANCE OF EACH UNIQUE CRN PER TERM\n",
    "pd.read_sql(\"\"\"SELECT max(count) \n",
    "                 FROM (SELECT crn,term,count(*) as count \n",
    "                         FROM courses \n",
    "                         GROUP BY crn,term \n",
    "                         ORDER BY 3 desc)\"\"\",engine)"
   ]
  },
  {
   "cell_type": "code",
   "execution_count": 27,
   "metadata": {},
   "outputs": [
    {
     "data": {
      "text/html": [
       "<div>\n",
       "<style scoped>\n",
       "    .dataframe tbody tr th:only-of-type {\n",
       "        vertical-align: middle;\n",
       "    }\n",
       "\n",
       "    .dataframe tbody tr th {\n",
       "        vertical-align: top;\n",
       "    }\n",
       "\n",
       "    .dataframe thead th {\n",
       "        text-align: right;\n",
       "    }\n",
       "</style>\n",
       "<table border=\"1\" class=\"dataframe\">\n",
       "  <thead>\n",
       "    <tr style=\"text-align: right;\">\n",
       "      <th></th>\n",
       "      <th>catalog_id</th>\n",
       "      <th>program_name</th>\n",
       "    </tr>\n",
       "  </thead>\n",
       "  <tbody>\n",
       "    <tr>\n",
       "      <th>0</th>\n",
       "      <td>AH 0012</td>\n",
       "      <td>None</td>\n",
       "    </tr>\n",
       "    <tr>\n",
       "      <th>1</th>\n",
       "      <td>CO 0398</td>\n",
       "      <td>None</td>\n",
       "    </tr>\n",
       "    <tr>\n",
       "      <th>2</th>\n",
       "      <td>CS 0377</td>\n",
       "      <td>None</td>\n",
       "    </tr>\n",
       "    <tr>\n",
       "      <th>3</th>\n",
       "      <td>MD 0099</td>\n",
       "      <td>None</td>\n",
       "    </tr>\n",
       "    <tr>\n",
       "      <th>4</th>\n",
       "      <td>MD 0403A</td>\n",
       "      <td>None</td>\n",
       "    </tr>\n",
       "  </tbody>\n",
       "</table>\n",
       "</div>"
      ],
      "text/plain": [
       "  catalog_id program_name\n",
       "0    AH 0012         None\n",
       "1    CO 0398         None\n",
       "2    CS 0377         None\n",
       "3    MD 0099         None\n",
       "4   MD 0403A         None"
      ]
     },
     "execution_count": 27,
     "metadata": {},
     "output_type": "execute_result"
    }
   ],
   "source": [
    "###REFERENTIAL INTEGRITY. ARE THERE CATALOG ID NUMBERS THAT DO NOT SHOW UP IN CATALOG TABLE?\n",
    "###THERE APPEARS TO BE 200+ CATALOG ID NUMBERS IN THE COURSE OFFERINGS THAT DO NOT SHOW UP IN THE CATALOG TABLE\n",
    "###tHIS IS LIKELY BECAUSE WEIRD LETTERS HAVE BEEN APPENDED OR HUMAN ERROR / MISSING DATA \n",
    "###THESE INSTANCES WILL BE IGNORED IN ANALYSIS\n",
    "\n",
    "pd.read_sql(\"\"\"\n",
    "            SELECT distinct a.catalog_id, b.program_name \n",
    "            FROM courses a \n",
    "            LEFT JOIN catalog b\n",
    "            ON a.catalog_id = b.catalog_id \n",
    "            WHERE b.program_name is null\n",
    "            \"\"\",engine).head()"
   ]
  },
  {
   "cell_type": "code",
   "execution_count": 25,
   "metadata": {},
   "outputs": [
    {
     "data": {
      "text/html": [
       "<div>\n",
       "<style scoped>\n",
       "    .dataframe tbody tr th:only-of-type {\n",
       "        vertical-align: middle;\n",
       "    }\n",
       "\n",
       "    .dataframe tbody tr th {\n",
       "        vertical-align: top;\n",
       "    }\n",
       "\n",
       "    .dataframe thead th {\n",
       "        text-align: right;\n",
       "    }\n",
       "</style>\n",
       "<table border=\"1\" class=\"dataframe\">\n",
       "  <thead>\n",
       "    <tr style=\"text-align: right;\">\n",
       "      <th></th>\n",
       "      <th>program_code</th>\n",
       "      <th>program_name</th>\n",
       "      <th>catalog_id</th>\n",
       "      <th>course_title</th>\n",
       "      <th>credits</th>\n",
       "      <th>prereqs</th>\n",
       "      <th>coreqs</th>\n",
       "      <th>fees</th>\n",
       "      <th>attributes</th>\n",
       "      <th>description</th>\n",
       "    </tr>\n",
       "  </thead>\n",
       "  <tbody>\n",
       "  </tbody>\n",
       "</table>\n",
       "</div>"
      ],
      "text/plain": [
       "Empty DataFrame\n",
       "Columns: [program_code, program_name, catalog_id, course_title, credits, prereqs, coreqs, fees, attributes, description]\n",
       "Index: []"
      ]
     },
     "execution_count": 25,
     "metadata": {},
     "output_type": "execute_result"
    }
   ],
   "source": [
    "pd.read_sql(\"\"\"select * from catalog where catalog_id like 'AH 0012'\"\"\",engine).head()"
   ]
  }
 ],
 "metadata": {
  "kernelspec": {
   "display_name": "Python 3",
   "language": "python",
   "name": "python3"
  },
  "language_info": {
   "codemirror_mode": {
    "name": "ipython",
    "version": 3
   },
   "file_extension": ".py",
   "mimetype": "text/x-python",
   "name": "python",
   "nbconvert_exporter": "python",
   "pygments_lexer": "ipython3",
   "version": "3.6.4"
  }
 },
 "nbformat": 4,
 "nbformat_minor": 2
}
