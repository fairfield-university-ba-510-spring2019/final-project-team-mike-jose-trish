{
 "cells": [
  {
   "cell_type": "code",
   "execution_count": 2,
   "metadata": {},
   "outputs": [],
   "source": [
    "from sqlalchemy import create_engine\n",
    "import pandas as pd"
   ]
  },
  {
   "cell_type": "code",
   "execution_count": 3,
   "metadata": {},
   "outputs": [],
   "source": [
    "###CONNECT TO THE DATABASES \n",
    "engine = create_engine('sqlite:///C:\\\\Users\\\\e333775\\\\Documents\\\\BA510\\\\final-project-team-mike-jose-trish\\\\docs\\\\csv_data\\\\CoursesDB.db')\n",
    "engine1 = create_engine('sqlite:///C:\\\\Users\\\\e333775\\\\Documents\\\\BA510\\\\final-project-team-mike-jose-trish\\\\docs\\\\csv_data\\\\CourseDataWarehouse.db')"
   ]
  },
  {
   "cell_type": "code",
   "execution_count": 29,
   "metadata": {},
   "outputs": [
    {
     "data": {
      "text/html": [
       "<div>\n",
       "<style scoped>\n",
       "    .dataframe tbody tr th:only-of-type {\n",
       "        vertical-align: middle;\n",
       "    }\n",
       "\n",
       "    .dataframe tbody tr th {\n",
       "        vertical-align: top;\n",
       "    }\n",
       "\n",
       "    .dataframe thead th {\n",
       "        text-align: right;\n",
       "    }\n",
       "</style>\n",
       "<table border=\"1\" class=\"dataframe\">\n",
       "  <thead>\n",
       "    <tr style=\"text-align: right;\">\n",
       "      <th></th>\n",
       "      <th>course_id</th>\n",
       "      <th>course_title</th>\n",
       "    </tr>\n",
       "  </thead>\n",
       "  <tbody>\n",
       "    <tr>\n",
       "      <th>0</th>\n",
       "      <td>1</td>\n",
       "      <td>Introduction to Financial Accounting</td>\n",
       "    </tr>\n",
       "  </tbody>\n",
       "</table>\n",
       "</div>"
      ],
      "text/plain": [
       "   course_id                          course_title\n",
       "0          1  Introduction to Financial Accounting"
      ]
     },
     "execution_count": 29,
     "metadata": {},
     "output_type": "execute_result"
    }
   ],
   "source": [
    "#list of tables in OPERATIONAL_DB\n",
    "pd.read_sql('select * from courses',engine).head(1)\n",
    "pd.read_sql('select * from meetings',engine).head(1)\n",
    "pd.read_sql('select * from instructors',engine).head(1)\n",
    "pd.read_sql('select * from locations',engine).head(1) \n",
    "pd.read_sql('select * from catalog',engine).head(1)\n",
    "pd.read_sql('select * from course_titles',engine).head(1)"
   ]
  },
  {
   "cell_type": "code",
   "execution_count": 17,
   "metadata": {},
   "outputs": [
    {
     "data": {
      "text/html": [
       "<div>\n",
       "<style scoped>\n",
       "    .dataframe tbody tr th:only-of-type {\n",
       "        vertical-align: middle;\n",
       "    }\n",
       "\n",
       "    .dataframe tbody tr th {\n",
       "        vertical-align: top;\n",
       "    }\n",
       "\n",
       "    .dataframe thead th {\n",
       "        text-align: right;\n",
       "    }\n",
       "</style>\n",
       "<table border=\"1\" class=\"dataframe\">\n",
       "  <thead>\n",
       "    <tr style=\"text-align: right;\">\n",
       "      <th></th>\n",
       "      <th>name</th>\n",
       "      <th>building</th>\n",
       "      <th>room</th>\n",
       "    </tr>\n",
       "  </thead>\n",
       "  <tbody>\n",
       "    <tr>\n",
       "      <th>0</th>\n",
       "      <td>DSB 105</td>\n",
       "      <td>DSB</td>\n",
       "      <td>105</td>\n",
       "    </tr>\n",
       "  </tbody>\n",
       "</table>\n",
       "</div>"
      ],
      "text/plain": [
       "      name building  room\n",
       "0  DSB 105      DSB   105"
      ]
     },
     "execution_count": 17,
     "metadata": {},
     "output_type": "execute_result"
    }
   ],
   "source": [
    "#list of tables in DIMENSIONAL_DB\n",
    "pd.read_sql('select * from programs',engine1).head(1)\n",
    "pd.read_sql('select * from locations',engine1).head(1)\n",
    "pd.read_sql('select * from catalog_names',engine1).head(1)\n",
    "pd.read_sql('select  * from meetings',engine1).head(1)\n",
    "pd.read_sql('select * from course_usage',engine1).head(1)\n"
   ]
  },
  {
   "cell_type": "code",
   "execution_count": 6,
   "metadata": {},
   "outputs": [],
   "source": [
    "###CREATE THE PROGRAMS TABLE AND FILL IT WITH INFO FROM OPERATIONAL DATABASE\n",
    "programs = pd.read_sql('select distinct program_code, program_name from catalog',engine)\n",
    "pd.io.sql.execute(\"\"\"create table programs (program_id Integer, program_code varchar(20), program_name varchar(20))\"\"\",engine1)\n",
    "\n",
    "for row in programs.itertuples():\n",
    "    pd.io.sql.execute(\"\"\"INSERT INTO Programs (Program_ID, program_code, program_name) VALUES ({},'{}','{}')\"\"\".format(row[0],row[1],row[2]),engine1)"
   ]
  },
  {
   "cell_type": "code",
   "execution_count": 17,
   "metadata": {},
   "outputs": [],
   "source": [
    "###CREATE THE LOCATIONS TABLE AND FILL IT WITH INFO FROM OPERATIONAL DATABASE\n",
    "buildings = pd.read_sql('select * from locations',engine)\n",
    "pd.io.sql.execute(\"\"\"CREATE table locations (name TEXT, building TEXT, room Text)\"\"\",engine1)\n",
    "\n",
    "for row in buildings.itertuples():\n",
    "    pd.io.sql.execute(\"\"\"INSERT INTO locations (name, building, room) VALUES ('{}','{}','{}')\"\"\".format(row[1],row[2],row[3]),engine1)"
   ]
  },
  {
   "cell_type": "code",
   "execution_count": 92,
   "metadata": {},
   "outputs": [],
   "source": [
    "###CREATE THE CATALOG_NAMES TABLE AND FILL IT WITH \"CLEANED\" INFO FROM OPERATIONAL DATABASE \n",
    "###CLEANED = OPERATIONAL DATABASE HAD BOTH 2017-2018, AND 2018-2019 FILES READ IN. \n",
    "###A DISTINCT CALL WAS USED IN ORDER TO DELETE DUPLICATES WHICH COULD CAUSE EXTRA RECORDS\n",
    "catalog_names = pd.read_sql('select distinct catalog_id, course_title, credits from catalog',engine)\n",
    "\n",
    "pd.io.sql.execute(\"\"\"create table if not exists catalog_names (catalog_id TEXT, course_title TEXT, credits TEXT)\"\"\",engine1)\n",
    "\n",
    "for row in catalog_names.itertuples():\n",
    "    pd.io.sql.execute(\"\"\"INSERT INTO catalog_names (catalog_id, course_title, credits) VALUES ('{}','{}','{}')\"\"\".format(row[1],row[2],row[3]),engine1)"
   ]
  },
  {
   "cell_type": "code",
   "execution_count": 27,
   "metadata": {
    "scrolled": true
   },
   "outputs": [
    {
     "name": "stdout",
     "output_type": "stream",
     "text": [
      "0\n",
      "10000\n",
      "20000\n"
     ]
    }
   ],
   "source": [
    "###CREATE THE MEETINGS TABLE AND FILL IT WITH \"CLEANED\" & \"RELEVANT\" INFO FROM OPERATIONAL DATABASE. \n",
    "###CLEANED = WE NOTICED IN THE OPERATIONAL MEETINGS DATABASE, THERE ARE MANY DUPLICATES LISTED. DISTINCT WAS USED TO DELETE DUPS.\n",
    "###RELEVANT = THE HYPOTHETICAL DOWNSTREAM USER IN THIS APPLICATION ONLY WANTS TO WORRY ABOUT CLASSES FROM SPRING2019.\n",
    "###FILTERED DOWN TO SPRING2019 FOR THE DIMENSIONALDATAWAREHOUSE\n",
    "\n",
    "import time\n",
    "meetings_lookup = pd.read_sql(\"\"\"select distinct term, crn, location, day, start,end from meetings where term like 'Spring2019'\"\"\",engine)\n",
    "\n",
    "pd.io.sql.execute(\"\"\"CREATE TABLE meetings (term TEXT, crn TEXT, location TEXT, day TEXT)\"\"\",engine1)\n",
    "\n",
    "count = 0 \n",
    "for row in meetings_lookup.itertuples():\n",
    "    if count % 10000==0:\n",
    "        print(count)\n",
    "    pd.io.sql.execute(\"\"\"INSERT INTO meetings (term, crn, location, day) VALUES ('{}','{}','{}','{}')\"\"\".format(row[1],row[2],row[3],row[4]),engine1)\n",
    "    count = count + 1"
   ]
  },
  {
   "cell_type": "code",
   "execution_count": 24,
   "metadata": {},
   "outputs": [
    {
     "data": {
      "text/html": [
       "<div>\n",
       "<style scoped>\n",
       "    .dataframe tbody tr th:only-of-type {\n",
       "        vertical-align: middle;\n",
       "    }\n",
       "\n",
       "    .dataframe tbody tr th {\n",
       "        vertical-align: top;\n",
       "    }\n",
       "\n",
       "    .dataframe thead th {\n",
       "        text-align: right;\n",
       "    }\n",
       "</style>\n",
       "<table border=\"1\" class=\"dataframe\">\n",
       "  <thead>\n",
       "    <tr style=\"text-align: right;\">\n",
       "      <th></th>\n",
       "      <th>term</th>\n",
       "      <th>crn</th>\n",
       "      <th>location</th>\n",
       "      <th>day</th>\n",
       "      <th>start</th>\n",
       "      <th>end</th>\n",
       "    </tr>\n",
       "  </thead>\n",
       "  <tbody>\n",
       "    <tr>\n",
       "      <th>1427</th>\n",
       "      <td>Spring2019</td>\n",
       "      <td>39005</td>\n",
       "      <td>DSB 2109A</td>\n",
       "      <td>S</td>\n",
       "      <td>2019-05-11 09:00:00</td>\n",
       "      <td>2019-05-11 17:00:00</td>\n",
       "    </tr>\n",
       "    <tr>\n",
       "      <th>3008</th>\n",
       "      <td>Spring2019</td>\n",
       "      <td>39005</td>\n",
       "      <td>DSB 2109A</td>\n",
       "      <td>S</td>\n",
       "      <td>2019-05-11 09:00:00</td>\n",
       "      <td>2019-05-11 17:00:00</td>\n",
       "    </tr>\n",
       "    <tr>\n",
       "      <th>1422</th>\n",
       "      <td>Spring2019</td>\n",
       "      <td>38153</td>\n",
       "      <td>DSB 105</td>\n",
       "      <td>S</td>\n",
       "      <td>2019-05-04 14:00:00</td>\n",
       "      <td>2019-05-04 16:00:00</td>\n",
       "    </tr>\n",
       "    <tr>\n",
       "      <th>3003</th>\n",
       "      <td>Spring2019</td>\n",
       "      <td>38153</td>\n",
       "      <td>DSB 105</td>\n",
       "      <td>S</td>\n",
       "      <td>2019-05-04 14:00:00</td>\n",
       "      <td>2019-05-04 16:00:00</td>\n",
       "    </tr>\n",
       "    <tr>\n",
       "      <th>2993</th>\n",
       "      <td>Spring2019</td>\n",
       "      <td>38152</td>\n",
       "      <td>DSB 105</td>\n",
       "      <td>S</td>\n",
       "      <td>2019-05-04 14:00:00</td>\n",
       "      <td>2019-05-04 16:00:00</td>\n",
       "    </tr>\n",
       "  </tbody>\n",
       "</table>\n",
       "</div>"
      ],
      "text/plain": [
       "            term    crn   location day                start  \\\n",
       "1427  Spring2019  39005  DSB 2109A   S  2019-05-11 09:00:00   \n",
       "3008  Spring2019  39005  DSB 2109A   S  2019-05-11 09:00:00   \n",
       "1422  Spring2019  38153    DSB 105   S  2019-05-04 14:00:00   \n",
       "3003  Spring2019  38153    DSB 105   S  2019-05-04 14:00:00   \n",
       "2993  Spring2019  38152    DSB 105   S  2019-05-04 14:00:00   \n",
       "\n",
       "                      end  \n",
       "1427  2019-05-11 17:00:00  \n",
       "3008  2019-05-11 17:00:00  \n",
       "1422  2019-05-04 16:00:00  \n",
       "3003  2019-05-04 16:00:00  \n",
       "2993  2019-05-04 16:00:00  "
      ]
     },
     "execution_count": 24,
     "metadata": {},
     "output_type": "execute_result"
    }
   ],
   "source": [
    "###EXAMPLE OF DUPLICATES IN OPERATIONAL DATABASE REFERENCED ABOVE\n",
    "pd.read_sql(\"\"\"select * from meetings where day = 'S'\"\"\",engine).sort_values('start',ascending=False).head(1)"
   ]
  },
  {
   "cell_type": "code",
   "execution_count": 28,
   "metadata": {},
   "outputs": [
    {
     "data": {
      "text/html": [
       "<div>\n",
       "<style scoped>\n",
       "    .dataframe tbody tr th:only-of-type {\n",
       "        vertical-align: middle;\n",
       "    }\n",
       "\n",
       "    .dataframe tbody tr th {\n",
       "        vertical-align: top;\n",
       "    }\n",
       "\n",
       "    .dataframe thead th {\n",
       "        text-align: right;\n",
       "    }\n",
       "</style>\n",
       "<table border=\"1\" class=\"dataframe\">\n",
       "  <thead>\n",
       "    <tr style=\"text-align: right;\">\n",
       "      <th></th>\n",
       "      <th>catalog_id</th>\n",
       "      <th>course_title</th>\n",
       "      <th>program_name</th>\n",
       "      <th>term</th>\n",
       "      <th>total_students</th>\n",
       "      <th>count_of_sections</th>\n",
       "    </tr>\n",
       "  </thead>\n",
       "  <tbody>\n",
       "    <tr>\n",
       "      <th>0</th>\n",
       "      <td>EN 0012</td>\n",
       "      <td>Texts and Contexts II: Writing About Literature</td>\n",
       "      <td>English</td>\n",
       "      <td>Spring2015</td>\n",
       "      <td>960</td>\n",
       "      <td>52</td>\n",
       "    </tr>\n",
       "  </tbody>\n",
       "</table>\n",
       "</div>"
      ],
      "text/plain": [
       "  catalog_id                                     course_title program_name  \\\n",
       "0    EN 0012  Texts and Contexts II: Writing About Literature      English   \n",
       "\n",
       "         term  total_students  count_of_sections  \n",
       "0  Spring2015             960                 52  "
      ]
     },
     "execution_count": 28,
     "metadata": {},
     "output_type": "execute_result"
    }
   ],
   "source": [
    "###WRITE A QUERY FROM THE OPERATIONAL_DATABASE TO RETURN THE ROLLED UP INFORMATION WE'D LIKE TO INSERT INTO DIMENSIONAL DB\n",
    "###IN THIS CASE THE ROLLED UP INFO IS THE SUM OF ACTUAL STUDENTS IN THE CLASS, AND COUNT OF SECTIONS\n",
    "new_usage =  pd.read_sql(\"\"\"\n",
    "select a.catalog_id, b.course_title, b.program_name, a.term, sum(a.act) as total_students,count(a.crn) as count_of_sections from courses a, (select distinct program_code, program_name, catalog_id, course_title from catalog) b\n",
    "where a.catalog_id = b.catalog_id \n",
    "group by a.catalog_id,b.course_title, b.program_name, a.term order by 5 desc\"\"\",engine)\n",
    "\n",
    "new_usage.head(1)"
   ]
  },
  {
   "cell_type": "code",
   "execution_count": 188,
   "metadata": {
    "scrolled": true
   },
   "outputs": [],
   "source": [
    "###CREATE TABLE COURSE USAGE FILLING IT WITH ROLLED UP DATA FROM THE OPERATIONAL DATABASE\n",
    "new_usage =  pd.read_sql(\"\"\"\n",
    "select a.catalog_id, b.course_title, b.program_name, a.term, sum(a.act) as total_students,count(a.crn) as count_of_sections from courses a, (select distinct program_code, program_name, catalog_id, course_title from catalog) b\n",
    "where a.catalog_id = b.catalog_id \n",
    "group by a.catalog_id,b.course_title, b.program_name, a.term order by 5 desc\"\"\",engine)\n",
    "\n",
    "pd.io.sql.execute(\"\"\"CREATE table IF NOT EXISTS course_usage (catalog_id  text, course_title text, program_name text, term TEXT, total_students integer, count_of_sections integer)\"\"\",engine1)\n",
    "\n",
    "for row in new_usage.itertuples():\n",
    "    pd.io.sql.execute(\"\"\"INSERT into course_usage (catalog_id,course_title,program_name, term, total_students, count_of_sections) values ('{}','{}','{}','{}',{},{})\"\"\".format(row[1],row[2],row[3],row[4],row[5],row[6]),engine1)"
   ]
  },
  {
   "cell_type": "code",
   "execution_count": 10,
   "metadata": {},
   "outputs": [
    {
     "data": {
      "text/html": [
       "<div>\n",
       "<style scoped>\n",
       "    .dataframe tbody tr th:only-of-type {\n",
       "        vertical-align: middle;\n",
       "    }\n",
       "\n",
       "    .dataframe tbody tr th {\n",
       "        vertical-align: top;\n",
       "    }\n",
       "\n",
       "    .dataframe thead th {\n",
       "        text-align: right;\n",
       "    }\n",
       "</style>\n",
       "<table border=\"1\" class=\"dataframe\">\n",
       "  <thead>\n",
       "    <tr style=\"text-align: right;\">\n",
       "      <th></th>\n",
       "      <th>MAX(COUNT_OF_INSTANCES)</th>\n",
       "    </tr>\n",
       "  </thead>\n",
       "  <tbody>\n",
       "    <tr>\n",
       "      <th>0</th>\n",
       "      <td>1</td>\n",
       "    </tr>\n",
       "  </tbody>\n",
       "</table>\n",
       "</div>"
      ],
      "text/plain": [
       "   MAX(COUNT_OF_INSTANCES)\n",
       "0                        1"
      ]
     },
     "execution_count": 10,
     "metadata": {},
     "output_type": "execute_result"
    }
   ],
   "source": [
    "###TEST ENTITY INTEGRITY OF COURSE_USAGE FACT TABLE. THERE ARE NO CATALOG_ID/TERM DUPLICATES\n",
    "pd.read_sql(\"\"\"\n",
    "                SELECT MAX(COUNT_OF_INSTANCES)\n",
    "                FROM \n",
    "                 (\n",
    "                 SELECT catalog_id,term, count(course_title) as count_of_instances\n",
    "                 FROM course_usage \n",
    "                 GROUP BY catalog_id,term\n",
    "                 )\n",
    "                 \n",
    "                 \"\"\",engine1)"
   ]
  },
  {
   "cell_type": "code",
   "execution_count": 13,
   "metadata": {},
   "outputs": [
    {
     "data": {
      "text/html": [
       "<div>\n",
       "<style scoped>\n",
       "    .dataframe tbody tr th:only-of-type {\n",
       "        vertical-align: middle;\n",
       "    }\n",
       "\n",
       "    .dataframe tbody tr th {\n",
       "        vertical-align: top;\n",
       "    }\n",
       "\n",
       "    .dataframe thead th {\n",
       "        text-align: right;\n",
       "    }\n",
       "</style>\n",
       "<table border=\"1\" class=\"dataframe\">\n",
       "  <thead>\n",
       "    <tr style=\"text-align: right;\">\n",
       "      <th></th>\n",
       "      <th>catalog_id</th>\n",
       "      <th>course_title</th>\n",
       "      <th>program_name</th>\n",
       "      <th>term</th>\n",
       "      <th>total_students</th>\n",
       "      <th>count_of_sections</th>\n",
       "    </tr>\n",
       "  </thead>\n",
       "  <tbody>\n",
       "  </tbody>\n",
       "</table>\n",
       "</div>"
      ],
      "text/plain": [
       "Empty DataFrame\n",
       "Columns: [catalog_id, course_title, program_name, term, total_students, count_of_sections]\n",
       "Index: []"
      ]
     },
     "execution_count": 13,
     "metadata": {},
     "output_type": "execute_result"
    }
   ],
   "source": [
    "###DOMAIN INTEGRITY. SINCE CATALOG_ID & TERM TOGETHER ARE OUR UNIQUE IDENTIFIER WE NEED TO ENSURE THIS FIELD IS NEVER NULL###\n",
    "pd.read_sql(\"\"\"select * from course_usage where (catalog_id is null or term is null)\"\"\",engine1)"
   ]
  },
  {
   "cell_type": "code",
   "execution_count": 36,
   "metadata": {},
   "outputs": [
    {
     "data": {
      "text/html": [
       "<div>\n",
       "<style scoped>\n",
       "    .dataframe tbody tr th:only-of-type {\n",
       "        vertical-align: middle;\n",
       "    }\n",
       "\n",
       "    .dataframe tbody tr th {\n",
       "        vertical-align: top;\n",
       "    }\n",
       "\n",
       "    .dataframe thead th {\n",
       "        text-align: right;\n",
       "    }\n",
       "</style>\n",
       "<table border=\"1\" class=\"dataframe\">\n",
       "  <thead>\n",
       "    <tr style=\"text-align: right;\">\n",
       "      <th></th>\n",
       "      <th>program_name</th>\n",
       "      <th>term</th>\n",
       "      <th>total_students</th>\n",
       "    </tr>\n",
       "  </thead>\n",
       "  <tbody>\n",
       "    <tr>\n",
       "      <th>0</th>\n",
       "      <td>Nursing</td>\n",
       "      <td>Spring2019</td>\n",
       "      <td>2485</td>\n",
       "    </tr>\n",
       "    <tr>\n",
       "      <th>1</th>\n",
       "      <td>English</td>\n",
       "      <td>Spring2019</td>\n",
       "      <td>1464</td>\n",
       "    </tr>\n",
       "    <tr>\n",
       "      <th>2</th>\n",
       "      <td>Biology</td>\n",
       "      <td>Spring2019</td>\n",
       "      <td>1355</td>\n",
       "    </tr>\n",
       "    <tr>\n",
       "      <th>3</th>\n",
       "      <td>Mathematics</td>\n",
       "      <td>Spring2019</td>\n",
       "      <td>1108</td>\n",
       "    </tr>\n",
       "    <tr>\n",
       "      <th>4</th>\n",
       "      <td>Accounting</td>\n",
       "      <td>Spring2019</td>\n",
       "      <td>1006</td>\n",
       "    </tr>\n",
       "  </tbody>\n",
       "</table>\n",
       "</div>"
      ],
      "text/plain": [
       "  program_name        term  total_students\n",
       "0      Nursing  Spring2019            2485\n",
       "1      English  Spring2019            1464\n",
       "2      Biology  Spring2019            1355\n",
       "3  Mathematics  Spring2019            1108\n",
       "4   Accounting  Spring2019            1006"
      ]
     },
     "execution_count": 36,
     "metadata": {},
     "output_type": "execute_result"
    }
   ],
   "source": [
    "#NOW USE DIMENSIONAL DATABASE TO SHOW UTILITY\n",
    "#WHAT IS THE MOST POPULAR PROGRAM IN THE UNIVERSITY IN SPRING 2019\n",
    "pd.read_sql(\"\"\"SELECT program_name, term, sum(total_students) as total_students \n",
    "                FROM course_usage \n",
    "                WHERE term = 'Spring2019' \n",
    "                GROUP BY program_name, term \n",
    "                ORDER BY 3 desc\"\"\",engine1).head()"
   ]
  },
  {
   "cell_type": "code",
   "execution_count": 37,
   "metadata": {},
   "outputs": [
    {
     "data": {
      "text/html": [
       "<div>\n",
       "<style scoped>\n",
       "    .dataframe tbody tr th:only-of-type {\n",
       "        vertical-align: middle;\n",
       "    }\n",
       "\n",
       "    .dataframe tbody tr th {\n",
       "        vertical-align: top;\n",
       "    }\n",
       "\n",
       "    .dataframe thead th {\n",
       "        text-align: right;\n",
       "    }\n",
       "</style>\n",
       "<table border=\"1\" class=\"dataframe\">\n",
       "  <thead>\n",
       "    <tr style=\"text-align: right;\">\n",
       "      <th></th>\n",
       "      <th>catalog_id</th>\n",
       "      <th>course_title</th>\n",
       "      <th>term</th>\n",
       "      <th>total_students</th>\n",
       "    </tr>\n",
       "  </thead>\n",
       "  <tbody>\n",
       "    <tr>\n",
       "      <th>0</th>\n",
       "      <td>EN 0012</td>\n",
       "      <td>Texts and Contexts II: Writing About Literature</td>\n",
       "      <td>Spring2019</td>\n",
       "      <td>931</td>\n",
       "    </tr>\n",
       "    <tr>\n",
       "      <th>1</th>\n",
       "      <td>EC 0012</td>\n",
       "      <td>Introduction to Macroeconomics</td>\n",
       "      <td>Spring2019</td>\n",
       "      <td>540</td>\n",
       "    </tr>\n",
       "    <tr>\n",
       "      <th>2</th>\n",
       "      <td>MA 0217</td>\n",
       "      <td>Accelerated Statistics</td>\n",
       "      <td>Spring2019</td>\n",
       "      <td>477</td>\n",
       "    </tr>\n",
       "    <tr>\n",
       "      <th>3</th>\n",
       "      <td>AC 0012</td>\n",
       "      <td>Introduction to Management Accounting</td>\n",
       "      <td>Spring2019</td>\n",
       "      <td>472</td>\n",
       "    </tr>\n",
       "    <tr>\n",
       "      <th>4</th>\n",
       "      <td>PH 0101</td>\n",
       "      <td>Introduction to Philosophy</td>\n",
       "      <td>Spring2019</td>\n",
       "      <td>446</td>\n",
       "    </tr>\n",
       "  </tbody>\n",
       "</table>\n",
       "</div>"
      ],
      "text/plain": [
       "  catalog_id                                     course_title        term  \\\n",
       "0    EN 0012  Texts and Contexts II: Writing About Literature  Spring2019   \n",
       "1    EC 0012                   Introduction to Macroeconomics  Spring2019   \n",
       "2    MA 0217                           Accelerated Statistics  Spring2019   \n",
       "3    AC 0012            Introduction to Management Accounting  Spring2019   \n",
       "4    PH 0101                       Introduction to Philosophy  Spring2019   \n",
       "\n",
       "   total_students  \n",
       "0             931  \n",
       "1             540  \n",
       "2             477  \n",
       "3             472  \n",
       "4             446  "
      ]
     },
     "execution_count": 37,
     "metadata": {},
     "output_type": "execute_result"
    }
   ],
   "source": [
    "#NOW USE DIMENSIONAL DATABASE TO SHOW UTILITY\n",
    "#WHAT IS THE MOST POPULAR COURSE IN THE UNIVERSITY IN SPRING 2019\n",
    "pd.read_sql(\"\"\"SELECT a.catalog_id,b.course_title, a.term, sum(a.total_students) as total_students \n",
    "                FROM course_usage a, catalog_names b \n",
    "                WHERE a.catalog_id = b.catalog_id \n",
    "                AND a.term = 'Spring2019' \n",
    "                GROUP BY a.catalog_id,b.course_title,a.term \n",
    "                ORDER BY 4 desc\"\"\",engine1).head()"
   ]
  },
  {
   "cell_type": "code",
   "execution_count": 55,
   "metadata": {},
   "outputs": [
    {
     "data": {
      "text/html": [
       "<div>\n",
       "<style scoped>\n",
       "    .dataframe tbody tr th:only-of-type {\n",
       "        vertical-align: middle;\n",
       "    }\n",
       "\n",
       "    .dataframe tbody tr th {\n",
       "        vertical-align: top;\n",
       "    }\n",
       "\n",
       "    .dataframe thead th {\n",
       "        text-align: right;\n",
       "    }\n",
       "</style>\n",
       "<table border=\"1\" class=\"dataframe\">\n",
       "  <thead>\n",
       "    <tr style=\"text-align: right;\">\n",
       "      <th></th>\n",
       "      <th>building</th>\n",
       "      <th>term</th>\n",
       "      <th>sat_classes</th>\n",
       "    </tr>\n",
       "  </thead>\n",
       "  <tbody>\n",
       "    <tr>\n",
       "      <th>0</th>\n",
       "      <td>DSB</td>\n",
       "      <td>Spring2019</td>\n",
       "      <td>56</td>\n",
       "    </tr>\n",
       "    <tr>\n",
       "      <th>1</th>\n",
       "      <td>NHS</td>\n",
       "      <td>Spring2019</td>\n",
       "      <td>16</td>\n",
       "    </tr>\n",
       "    <tr>\n",
       "      <th>2</th>\n",
       "      <td>CMC</td>\n",
       "      <td>Spring2019</td>\n",
       "      <td>12</td>\n",
       "    </tr>\n",
       "    <tr>\n",
       "      <th>3</th>\n",
       "      <td>CNS</td>\n",
       "      <td>Spring2019</td>\n",
       "      <td>8</td>\n",
       "    </tr>\n",
       "    <tr>\n",
       "      <th>4</th>\n",
       "      <td>MCA</td>\n",
       "      <td>Spring2019</td>\n",
       "      <td>6</td>\n",
       "    </tr>\n",
       "  </tbody>\n",
       "</table>\n",
       "</div>"
      ],
      "text/plain": [
       "  building        term  sat_classes\n",
       "0      DSB  Spring2019           56\n",
       "1      NHS  Spring2019           16\n",
       "2      CMC  Spring2019           12\n",
       "3      CNS  Spring2019            8\n",
       "4      MCA  Spring2019            6"
      ]
     },
     "execution_count": 55,
     "metadata": {},
     "output_type": "execute_result"
    }
   ],
   "source": [
    "##NOW USE DIMENSIONAL DATABASE TO SHOW UTILITY\n",
    "##WHAT BUILDING HAS THE MOST SATURDAY CLASSES\n",
    "pd.read_sql(\"\"\"SELECT b.building,a.term, count(a.day) as sat_classes \n",
    "                FROM meetings a, locations b \n",
    "                WHERE a.location = b.name \n",
    "                AND a.day = 'S' \n",
    "                GROUP BY b.building,a.term \n",
    "                HAVING b.building <> 'nan'\n",
    "                ORDER BY 3 desc\"\"\",engine1)"
   ]
  }
 ],
 "metadata": {
  "kernelspec": {
   "display_name": "Python 3",
   "language": "python",
   "name": "python3"
  },
  "language_info": {
   "codemirror_mode": {
    "name": "ipython",
    "version": 3
   },
   "file_extension": ".py",
   "mimetype": "text/x-python",
   "name": "python",
   "nbconvert_exporter": "python",
   "pygments_lexer": "ipython3",
   "version": "3.6.4"
  }
 },
 "nbformat": 4,
 "nbformat_minor": 2
}
