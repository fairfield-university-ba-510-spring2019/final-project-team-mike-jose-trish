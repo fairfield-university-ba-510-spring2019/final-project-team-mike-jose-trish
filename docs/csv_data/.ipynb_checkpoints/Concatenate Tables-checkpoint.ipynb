{
 "cells": [
  {
   "cell_type": "code",
   "execution_count": 1,
   "metadata": {},
   "outputs": [],
   "source": [
    "import os"
   ]
  },
  {
   "cell_type": "code",
   "execution_count": 25,
   "metadata": {},
   "outputs": [],
   "source": [
    "empty = []\n",
    "for dirname, dirnames, filenames in os.walk('CSV_Files\\.'):\n",
    "    empty.append(filenames)"
   ]
  },
  {
   "cell_type": "code",
   "execution_count": 28,
   "metadata": {},
   "outputs": [],
   "source": [
    "courses_files = []\n",
    "for i in empty[0]:\n",
    "    if 'courses' in i:\n",
    "        courses_files.append(i)\n",
    "    else:\n",
    "        pass\n",
    "\n",
    "course_meetings = []\n",
    "for i in empty[0]:\n",
    "    if 'course_meetings' in i:\n",
    "        course_meetings.append(i)\n",
    "    else:\n",
    "        pass"
   ]
  },
  {
   "cell_type": "code",
   "execution_count": 29,
   "metadata": {},
   "outputs": [
    {
     "data": {
      "text/plain": [
       "(['Fall2014_courses.csv.csv',\n",
       "  'Fall2015_courses.csv.csv',\n",
       "  'Fall2016_courses.csv.csv',\n",
       "  'Fall2017_courses.csv.csv',\n",
       "  'Fall2018_courses.csv.csv',\n",
       "  'mmer2015_courses.csv.csv',\n",
       "  'mmer2016_courses.csv.csv',\n",
       "  'mmer2017_courses.csv.csv',\n",
       "  'mmer2018_courses.csv.csv',\n",
       "  'pring2015_courses.csv.csv',\n",
       "  'pring2016_courses.csv.csv',\n",
       "  'pring2017_courses.csv.csv',\n",
       "  'pring2018_courses.csv.csv',\n",
       "  'Spring2019_courses.csv.csv',\n",
       "  'SpringBreak2017_courses.csv.csv',\n",
       "  'Winter2015_courses.csv.csv',\n",
       "  'Winter2016_courses.csv.csv',\n",
       "  'Winter2017_courses.csv.csv',\n",
       "  'Winter2018_courses.csv.csv'],\n",
       " ['Fall2014_course_meetings.csv.csv',\n",
       "  'Fall2015_course_meetings.csv.csv',\n",
       "  'Fall2016_course_meetings.csv.csv',\n",
       "  'Fall2017_course_meetings.csv.csv',\n",
       "  'Fall2018_course_meetings.csv.csv',\n",
       "  'mmer2015_course_meetings.csv.csv',\n",
       "  'mmer2016_course_meetings.csv.csv',\n",
       "  'mmer2017_course_meetings.csv.csv',\n",
       "  'mmer2018_course_meetings.csv.csv',\n",
       "  'pring2015_course_meetings.csv.csv',\n",
       "  'pring2016_course_meetings.csv.csv',\n",
       "  'pring2017_course_meetings.csv.csv',\n",
       "  'pring2018_course_meetings.csv.csv',\n",
       "  'Spring2019_course_meetings.csv.csv',\n",
       "  'SpringBreak2017_course_meetings.csv.csv',\n",
       "  'Winter2015_course_meetings.csv.csv',\n",
       "  'Winter2016_course_meetings.csv.csv',\n",
       "  'Winter2017_course_meetings.csv.csv',\n",
       "  'Winter2018_course_meetings.csv.csv'])"
      ]
     },
     "execution_count": 29,
     "metadata": {},
     "output_type": "execute_result"
    }
   ],
   "source": [
    "courses_files, course_meetings"
   ]
  },
  {
   "cell_type": "code",
   "execution_count": 30,
   "metadata": {},
   "outputs": [],
   "source": [
    "catalog_files = ['Catalogs_CourseCatalog2017_2018.csv.csv','Catalogs_CourseCatalog2018_2019.csv.csv']\n",
    "CSV_files_catalogs = ['CSV_files_Catalogs_CourseCatalog2017_2018.csv.csv.csv','CSV_files_Catalogs_CourseCatalog2018_2019.csv.csv.csv']"
   ]
  },
  {
   "cell_type": "code",
   "execution_count": 33,
   "metadata": {},
   "outputs": [],
   "source": [
    "import pandas as pd\n",
    "courses_df = pd.DataFrame()\n",
    "\n",
    "for i in courses_files:\n",
    "    courses_df = courses_df.append(pd.read_csv('CSV_Files\\{}'.format(i)))"
   ]
  },
  {
   "cell_type": "code",
   "execution_count": 34,
   "metadata": {},
   "outputs": [],
   "source": [
    "courses_df.reset_index(drop=True).drop('Unnamed: 0',1).to_csv('courses_combined.csv')"
   ]
  },
  {
   "cell_type": "code",
   "execution_count": 35,
   "metadata": {},
   "outputs": [],
   "source": [
    "course_meetings_df = pd.DataFrame()\n",
    "\n",
    "for i in course_meetings:\n",
    "    course_meetings_df = course_meetings_df.append(pd.read_csv('CSV_Files\\{}'.format(i)))"
   ]
  },
  {
   "cell_type": "code",
   "execution_count": 37,
   "metadata": {},
   "outputs": [],
   "source": [
    "course_meetings_df.reset_index(drop=True).drop('Unnamed: 0',1).to_csv('course_meetings_combined.csv')"
   ]
  },
  {
   "cell_type": "code",
   "execution_count": 38,
   "metadata": {},
   "outputs": [],
   "source": [
    "catalog_files_df = pd.DataFrame()\n",
    "\n",
    "for i in catalog_files:\n",
    "    catalog_files_df = catalog_files_df.append(pd.read_csv('CSV_Files\\{}'.format(i)))\n",
    "    \n",
    "catalog_files_df.reset_index(drop=True).drop('Unnamed: 0',1).to_csv('catalog_files_combined.csv')"
   ]
  },
  {
   "cell_type": "code",
   "execution_count": 76,
   "metadata": {},
   "outputs": [
    {
     "name": "stdout",
     "output_type": "stream",
     "text": [
      "CSV_files_Catalogs_CourseCatalog2017_2018.csv.csv.csv\n",
      "CSV_files_Catalogs_CourseCatalog2018_2019.csv.csv.csv\n"
     ]
    }
   ],
   "source": [
    "csv_files_catalog_df = pd.DataFrame()\n",
    "\n",
    "for i in CSV_files_catalogs:\n",
    "    print(i)\n",
    "    csv_files_catalog_df = csv_files_catalog_df.append(pd.read_csv(i))"
   ]
  },
  {
   "cell_type": "code",
   "execution_count": 78,
   "metadata": {},
   "outputs": [],
   "source": [
    "csv_files_catalog_df.reset_index(drop=True).drop(['Unnamed: 0','Unnamed: 0.1'],1).to_csv('csv_files_catalog_combined.csv')"
   ]
  },
  {
   "cell_type": "code",
   "execution_count": null,
   "metadata": {},
   "outputs": [],
   "source": []
  }
 ],
 "metadata": {
  "kernelspec": {
   "display_name": "Python 3",
   "language": "python",
   "name": "python3"
  },
  "language_info": {
   "codemirror_mode": {
    "name": "ipython",
    "version": 3
   },
   "file_extension": ".py",
   "mimetype": "text/x-python",
   "name": "python",
   "nbconvert_exporter": "python",
   "pygments_lexer": "ipython3",
   "version": "3.6.4"
  }
 },
 "nbformat": 4,
 "nbformat_minor": 2
}
